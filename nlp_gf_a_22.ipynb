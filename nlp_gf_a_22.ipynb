{
 "cells": [
  {
   "cell_type": "code",
   "execution_count": 1,
   "metadata": {},
   "outputs": [
    {
     "name": "stderr",
     "output_type": "stream",
     "text": [
      "[nltk_data] Downloading package punkt to /home/jwigs/nltk_data...\n",
      "[nltk_data]   Unzipping tokenizers/punkt.zip.\n",
      "[nltk_data] Downloading package stopwords to /home/jwigs/nltk_data...\n",
      "[nltk_data]   Unzipping corpora/stopwords.zip.\n"
     ]
    },
    {
     "data": {
      "text/plain": [
       "True"
      ]
     },
     "execution_count": 1,
     "metadata": {},
     "output_type": "execute_result"
    }
   ],
   "source": [
    "# Libraries\n",
    "import nltk\n",
    "nltk.download('punkt')\n",
    "nltk.download('stopwords')"
   ]
  },
  {
   "cell_type": "code",
   "execution_count": 4,
   "metadata": {},
   "outputs": [],
   "source": [
    "f = open('gf_apr_22.txt',encoding = \"ISO-8859-1\") \n",
    "raw_gfa22= f.read()\n",
    "FindWordsText_gfa22 = nltk.word_tokenize(raw_gfa22) # Seperate text into words and preprocessing\n",
    "text_gfa22 = nltk.Text(FindWordsText_gfa22) # Spit out finished, searchable version of text"
   ]
  },
  {
   "cell_type": "code",
   "execution_count": 5,
   "metadata": {},
   "outputs": [
    {
     "data": {
      "text/plain": [
       "58913"
      ]
     },
     "execution_count": 5,
     "metadata": {},
     "output_type": "execute_result"
    }
   ],
   "source": [
    "len(text_gfa22)"
   ]
  },
  {
   "cell_type": "code",
   "execution_count": 6,
   "metadata": {},
   "outputs": [
    {
     "data": {
      "text/plain": [
       "321"
      ]
     },
     "execution_count": 6,
     "metadata": {},
     "output_type": "execute_result"
    }
   ],
   "source": [
    "text_gfa22.count('Christ')"
   ]
  },
  {
   "cell_type": "code",
   "execution_count": 7,
   "metadata": {},
   "outputs": [
    {
     "name": "stdout",
     "output_type": "stream",
     "text": [
      "Displaying 25 of 321 matches:\n",
      "n commotion.1 As followers of Jesus Christ , we plead with leaders of nations \n",
      "s and sisters , the gospel of Jesus Christ has never been needed more than it \n",
      " and taught . I love the Lord Jesus Christ and testify that His gospel is the \n",
      " share the power and peace of Jesus Christ with all who will listen and who wi\n",
      " the world makes the light of Jesus Christ needed more than ever . Everyone de\n",
      " about the restored gospel of Jesus Christ . Every person deserves to know whe\n",
      " I pray in the sacred name of Jesus Christ , amen . Thank you , President Nels\n",
      "avenly Father and my Savior , Jesus Christ , know and love me . I was blessed \n",
      "y . As an Apostle of the Lord Jesus Christ , I now call upon you young menâa\n",
      "ony of the restored gospel of Jesus Christ . Fathers and mothers of these wond\n",
      " Restoration of the gospel of Jesus Christ . As you have served diligently and\n",
      "n the sacred name of the Lord Jesus Christ , amen . After receiving an invitat\n",
      "â1 I attended The Church of Jesus Christ of Latter-day Saints for the first \n",
      "started my journey as a disciple of Christ , although my life has not been per\n",
      "o be in place . The gospel of Jesus Christ had been restored and preached ; th\n",
      "eep covenants that bind us to Jesus Christ ; 8 are endowed with âthe power o\n",
      "s Christ.â My fellow disciples of Christ , let us not underestimate the marv\n",
      "vers , but we are all one family in Christ . His Church is the structure He ha\n",
      "uth strengthen their faith in Jesus Christ . Relief Society is not limited to \n",
      "embers . We are The Church of Jesus Christ of Latter-day Saints , with Christ \n",
      " Christ of Latter-day Saints , with Christ at the head and the prophet as His \n",
      "re to belong to the Church of Jesus Christ , where we can unite our faith , he\n",
      "om should be to bring each other to Christ . As we read in the scriptures , th\n",
      " . As âthe peaceable followers of Christ , â20 we are striving to become â\n",
      "e are striving to become like Jesus Christ . I testify that as Christâs Chur\n"
     ]
    }
   ],
   "source": [
    "text_gfa22.concordance(\"Christ\")"
   ]
  },
  {
   "cell_type": "code",
   "execution_count": 8,
   "metadata": {},
   "outputs": [
    {
     "name": "stdout",
     "output_type": "stream",
     "text": [
      "god us faith him life saints you the me jesus and our children what\n",
      "service heart which happiness mormon heaven\n"
     ]
    }
   ],
   "source": [
    "text_gfa22.similar(\"Christ\")"
   ]
  },
  {
   "cell_type": "code",
   "execution_count": 10,
   "metadata": {},
   "outputs": [
    {
     "name": "stdout",
     "output_type": "stream",
     "text": [
      "of_who with_at of_the of_i of_and\n"
     ]
    }
   ],
   "source": [
    "text_gfa22.common_contexts([\"Jesus\",\"Christ\",])"
   ]
  },
  {
   "cell_type": "code",
   "execution_count": 17,
   "metadata": {},
   "outputs": [
    {
     "data": {
      "image/png": "[encoded data removed]",
      "text/plain": [
       "<Figure size 640x480 with 1 Axes>"
      ]
     },
     "metadata": {},
     "output_type": "display_data"
    }
   ],
   "source": [
    "text_gfa22.dispersion_plot([\"Christ\", \"repentance\", \"love\", \"peace\", \"prayer\", \"mercy\", \"God\",\"momentum\"])"
   ]
  },
  {
   "cell_type": "code",
   "execution_count": 12,
   "metadata": {},
   "outputs": [
    {
     "data": {
      "text/plain": [
       "[(',', 3102),\n",
       " ('the', 2705),\n",
       " ('.', 2055),\n",
       " ('and', 1952),\n",
       " ('of', 1796),\n",
       " ('to', 1726),\n",
       " ('in', 938),\n",
       " ('a', 726),\n",
       " ('that', 698),\n",
       " ('we', 652),\n",
       " ('is', 592),\n",
       " ('I', 543),\n",
       " ('our', 525),\n",
       " ('with', 400),\n",
       " ('for', 386),\n",
       " ('you', 383),\n",
       " ('are', 374),\n",
       " ('us', 340),\n",
       " ('be', 338),\n",
       " ('Christ', 321),\n",
       " ('not', 314),\n",
       " ('Jesus', 307),\n",
       " ('His', 297),\n",
       " ('as', 282),\n",
       " ('will', 279)]"
      ]
     },
     "execution_count": 12,
     "metadata": {},
     "output_type": "execute_result"
    }
   ],
   "source": [
    "frequency_dist = nltk.FreqDist(text_gfa22)\n",
    "frequency_dist.most_common(25)"
   ]
  },
  {
   "cell_type": "code",
   "execution_count": 14,
   "metadata": {},
   "outputs": [
    {
     "name": "stdout",
     "output_type": "stream",
     "text": [
      "Jesus Christ; Holy Ghost; Heavenly Father; President Russell; covenant\n",
      "path; Joseph Smith; Latter-day Saints; Heavenly Fatherâs; Young\n",
      "Women; general conference; Prophet Joseph; Relief Society; King\n",
      "Benjamin; First Presidency; fiery darts; Women theme; ice cream;\n",
      "spiritual momentum; Old Testament; social media\n"
     ]
    }
   ],
   "source": [
    "text_gfa22.collocations()"
   ]
  },
  {
   "cell_type": "code",
   "execution_count": null,
   "metadata": {},
   "outputs": [],
   "source": []
  }
 ],
 "metadata": {
  "kernelspec": {
   "display_name": "Python 3.9.2 64-bit",
   "language": "python",
   "name": "python3"
  },
  "language_info": {
   "codemirror_mode": {
    "name": "ipython",
    "version": 3
   },
   "file_extension": ".py",
   "mimetype": "text/x-python",
   "name": "python",
   "nbconvert_exporter": "python",
   "pygments_lexer": "ipython3",
   "version": "3.9.2"
  },
  "orig_nbformat": 4,
  "vscode": {
   "interpreter": {
    "hash": "31f2aee4e71d21fbe5cf8b01ff0e069b9275f58929596ceb00d14d90e3e16cd6"
   }
  }
 },
 "nbformat": 4,
 "nbformat_minor": 2
}
